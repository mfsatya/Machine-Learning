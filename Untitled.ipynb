{
 "cells": [
  {
   "cell_type": "code",
   "execution_count": 80,
   "metadata": {},
   "outputs": [],
   "source": [
    "import numpy as np"
   ]
  },
  {
   "cell_type": "code",
   "execution_count": 81,
   "metadata": {},
   "outputs": [],
   "source": [
    "# Import data from data test and data train\n",
    "d_train = np.genfromtxt('TrainsetTugas1ML.csv', delimiter=',', dtype=\"U20\")\n",
    "d_test = np.genfromtxt('TestsetTugas1ML.csv', delimiter=',', dtype=\"U20\")"
   ]
  },
  {
   "cell_type": "code",
   "execution_count": 87,
   "metadata": {},
   "outputs": [],
   "source": [
    "def predict(test,train):\n",
    "    # find prior of each class in data train\n",
    "    pc1 = np.count_nonzero(train[1:,8] == \"<=50K\") / np.count_nonzero(train[1:,8])\n",
    "    pc2 = np.count_nonzero(train[1:,8] == \">50K\") / np.count_nonzero(train[1:,8])\n",
    "    predict = []\n",
    "    for i in test:\n",
    "        pa1c1 = np.count_nonzero(np.all([train[1:,1] == i[1], train[1:,8] == \">50K\"], axis=0)) /  np.count_nonzero(train[1:,8] == \">50K\")\n",
    "        pa1c2 = np.count_nonzero(np.all([train[1:,1] == i[1], train[1:,8] == \"<=50K\"], axis=0)) /  np.count_nonzero(train[1:,8] == \"<=50K\")\n",
    "        pa2c1 = np.count_nonzero(np.all([train[1:,2] == i[2], train[1:,8] == \">50K\"], axis=0)) /  np.count_nonzero(train[1:,8] == \">50K\")\n",
    "        pa2c2 = np.count_nonzero(np.all([train[1:,2] == i[2], train[1:,8] == \"<=50K\"], axis=0)) /  np.count_nonzero(train[1:,8] == \"<=50K\")\n",
    "        pa3c1 = np.count_nonzero(np.all([train[1:,3] == i[3], train[1:,8] == \">50K\"], axis=0)) /  np.count_nonzero(train[1:,8] == \">50K\")\n",
    "        pa3c2 = np.count_nonzero(np.all([train[1:,3] == i[3], train[1:,8] == \"<=50K\"], axis=0)) /  np.count_nonzero(train[1:,8] == \"<=50K\")\n",
    "        pa4c1 = np.count_nonzero(np.all([train[1:,4] == i[4], train[1:,8] == \">50K\"], axis=0)) /  np.count_nonzero(train[1:,8] == \">50K\")\n",
    "        pa4c2 = np.count_nonzero(np.all([train[1:,4] == i[4], train[1:,8] == \"<=50K\"], axis=0)) /  np.count_nonzero(train[1:,8] == \"<=50K\")\n",
    "        pa5c1 = np.count_nonzero(np.all([train[1:,5] == i[5], train[1:,8] == \">50K\"], axis=0)) /  np.count_nonzero(train[1:,8] == \">50K\")\n",
    "        pa5c2 = np.count_nonzero(np.all([train[1:,5] == i[5], train[1:,8] == \"<=50K\"], axis=0)) /  np.count_nonzero(train[1:,8] == \"<=50K\")\n",
    "        pa6c1 = np.count_nonzero(np.all([train[1:,6] == i[6], train[1:,8] == \">50K\"], axis=0)) /  np.count_nonzero(train[1:,8] == \">50K\")\n",
    "        pa6c2 = np.count_nonzero(np.all([train[1:,6] == i[6], train[1:,8] == \"<=50K\"], axis=0)) /  np.count_nonzero(train[1:,8] == \"<=50K\")\n",
    "        pa7c1 = np.count_nonzero(np.all([train[1:,7] == i[7], train[1:,8] == \">50K\"], axis=0)) /  np.count_nonzero(train[1:,8] == \">50K\")\n",
    "        pa7c2 = np.count_nonzero(np.all([train[1:,7] == i[7], train[1:,8] == \"<=50K\"], axis=0)) /  np.count_nonzero(train[1:,8] == \"<=50K\")\n",
    "        #print(pa1c1,pa2c1,pa3c1,pa4c1,pa5c1,pa6c1,pa7c1)\n",
    "        p1 = pa1c1*pa2c1*pa3c1*pa4c1*pa5c1*pa7c1*pc1\n",
    "        p2 = pa1c2*pa2c2*pa3c2*pa4c2*pa5c2*pa7c2*pc2\n",
    "        #print(p1,p2)\n",
    "        if (p1 > p2):\n",
    "            predict.append([\">50K\"])\n",
    "        else:\n",
    "            predict.append([\"<=50K\"])\n",
    "    return predict"
   ]
  },
  {
   "cell_type": "code",
   "execution_count": 90,
   "metadata": {},
   "outputs": [
    {
     "data": {
      "text/plain": [
       "[['<=50K'],\n",
       " ['<=50K'],\n",
       " ['>50K'],\n",
       " ['<=50K'],\n",
       " ['<=50K'],\n",
       " ['<=50K'],\n",
       " ['<=50K'],\n",
       " ['<=50K'],\n",
       " ['<=50K'],\n",
       " ['<=50K'],\n",
       " ['>50K'],\n",
       " ['<=50K'],\n",
       " ['<=50K'],\n",
       " ['>50K'],\n",
       " ['>50K'],\n",
       " ['>50K'],\n",
       " ['<=50K'],\n",
       " ['<=50K'],\n",
       " ['<=50K'],\n",
       " ['>50K'],\n",
       " ['<=50K'],\n",
       " ['>50K'],\n",
       " ['<=50K'],\n",
       " ['>50K'],\n",
       " ['<=50K'],\n",
       " ['>50K'],\n",
       " ['<=50K'],\n",
       " ['>50K'],\n",
       " ['>50K'],\n",
       " ['<=50K'],\n",
       " ['<=50K'],\n",
       " ['<=50K'],\n",
       " ['<=50K'],\n",
       " ['<=50K'],\n",
       " ['<=50K'],\n",
       " ['>50K'],\n",
       " ['<=50K'],\n",
       " ['<=50K'],\n",
       " ['>50K'],\n",
       " ['<=50K']]"
      ]
     },
     "execution_count": 90,
     "metadata": {},
     "output_type": "execute_result"
    }
   ],
   "source": [
    "predict(d_test,d_train)[1:]"
   ]
  },
  {
   "cell_type": "code",
   "execution_count": null,
   "metadata": {},
   "outputs": [],
   "source": []
  },
  {
   "cell_type": "code",
   "execution_count": null,
   "metadata": {},
   "outputs": [],
   "source": []
  },
  {
   "cell_type": "code",
   "execution_count": null,
   "metadata": {},
   "outputs": [],
   "source": []
  }
 ],
 "metadata": {
  "kernelspec": {
   "display_name": "Python 3",
   "language": "python",
   "name": "python3"
  },
  "language_info": {
   "codemirror_mode": {
    "name": "ipython",
    "version": 3
   },
   "file_extension": ".py",
   "mimetype": "text/x-python",
   "name": "python",
   "nbconvert_exporter": "python",
   "pygments_lexer": "ipython3",
   "version": "3.7.1"
  }
 },
 "nbformat": 4,
 "nbformat_minor": 2
}
