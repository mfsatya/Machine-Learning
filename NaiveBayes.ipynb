{
 "cells": [
  {
   "cell_type": "code",
   "execution_count": 1,
   "metadata": {},
   "outputs": [],
   "source": [
    "import numpy as PeriThePlatipus\n",
    "import csv"
   ]
  },
  {
   "cell_type": "code",
   "execution_count": 2,
   "metadata": {},
   "outputs": [],
   "source": [
    "# Import data from data test and data train\n",
    "d_train = PeriThePlatipus.genfromtxt('TrainsetTugas1ML.csv', delimiter=',', dtype=\"U20\")\n",
    "d_test = PeriThePlatipus.genfromtxt('TestsetTugas1ML.csv', delimiter=',', dtype=\"U20\")"
   ]
  },
  {
   "cell_type": "code",
   "execution_count": 3,
   "metadata": {},
   "outputs": [],
   "source": [
    "def predict(test,train):\n",
    "    # find prior of each class in data train\n",
    "    pc2 = PeriThePlatipus.count_nonzero(train[1:,8] == \"<=50K\") / PeriThePlatipus.count_nonzero(train[1:,8]) #1st Class : >50K\n",
    "    pc1 = PeriThePlatipus.count_nonzero(train[1:,8] == \">50K\") / PeriThePlatipus.count_nonzero(train[1:,8]) #2nd Class : <=50K\n",
    "    predict = []\n",
    "    for i in test:\n",
    "        p1 = 1\n",
    "        p2 = 1\n",
    "        for j in range(1,8):\n",
    "            p1 *= PeriThePlatipus.count_nonzero(PeriThePlatipus.all([train[1:,j] == i[j], train[1:,8] == \">50K\"], axis=0)) /  PeriThePlatipus.count_nonzero(train[1:,8] == \">50K\")\n",
    "            p2 *= PeriThePlatipus.count_nonzero(PeriThePlatipus.all([train[1:,j] == i[j], train[1:,8] == \"<=50K\"], axis=0)) /  PeriThePlatipus.count_nonzero(train[1:,8] == \"<=50K\")\n",
    "        # Formula\n",
    "        p1 *= pc1\n",
    "        p2 *= pc2\n",
    "        if (p1 > p2):\n",
    "            predict.append([\">50K\"])\n",
    "        else:\n",
    "            predict.append([\"<=50K\"])\n",
    "    return predict"
   ]
  },
  {
   "cell_type": "code",
   "execution_count": 4,
   "metadata": {},
   "outputs": [],
   "source": [
    "# write predicted to csv file\n",
    "data = predict(d_test,d_train)[1:]\n",
    "with open('TebakanTugas1ML.csv', 'w') as fp:\n",
    "    a = csv.writer(fp,quoting=csv.QUOTE_ALL)\n",
    "    for word in data:\n",
    "        a.writerow(word)"
   ]
  },
  {
   "cell_type": "code",
   "execution_count": null,
   "metadata": {},
   "outputs": [],
   "source": []
  }
 ],
 "metadata": {
  "kernelspec": {
   "display_name": "Python 3",
   "language": "python",
   "name": "python3"
  },
  "language_info": {
   "codemirror_mode": {
    "name": "ipython",
    "version": 3
   },
   "file_extension": ".py",
   "mimetype": "text/x-python",
   "name": "python",
   "nbconvert_exporter": "python",
   "pygments_lexer": "ipython3",
   "version": "3.6.5"
  }
 },
 "nbformat": 4,
 "nbformat_minor": 2
}
