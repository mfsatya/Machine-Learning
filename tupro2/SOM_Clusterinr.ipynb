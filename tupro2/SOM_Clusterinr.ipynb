{
 "cells": [
  {
   "cell_type": "code",
   "execution_count": 80,
   "metadata": {},
   "outputs": [],
   "source": [
    "import random\n",
    "import copy\n",
    "from matplotlib import pyplot as plt\n",
    "from mpl_toolkits.mplot3d import Axes3D\n",
    "from scipy.spatial.distance import cdist\n",
    "import numpy as np\n",
    "import pandas as pd"
   ]
  },
  {
   "cell_type": "code",
   "execution_count": 83,
   "metadata": {},
   "outputs": [],
   "source": [
    "class SOM():\n",
    "\n",
    "    def __init__(self, neurons, dimentions, n_iter=1000, learning_rate=0.1):\n",
    "        neighbourhood_radius = np.sum(neurons)\n",
    "        self.neurons = neurons\n",
    "        self.dimentions = dimentions\n",
    "        self.weights = np.random.randint(0, 255, size=(neurons[0], neurons[1], dimentions)) / 255\n",
    "        self.initial_learning_rate = learning_rate\n",
    "        self.learning_rate = learning_rate\n",
    "        self.n_iter = n_iter\n",
    "        self.initial_neighbourhood_radius = neighbourhood_radius\n",
    "        self.neighbourhood_radius = neighbourhood_radius\n",
    "        self.time_constant = n_iter/np.log(self.initial_neighbourhood_radius)\n",
    "        self.weights_ = None  # Cluster centres\n",
    "        self.labels_ = None # Assign labels\n",
    "    \n",
    "    \n",
    "    def _assignLabels(self, samples):\n",
    "        dimentions = self.weights.shape\n",
    "        self.weights_ = self.weights.reshape(dimentions[0] * dimentions[1], dimentions[2])\n",
    "        labels = []\n",
    "        for sample in samples:\n",
    "            distances = cdist(self.weights_, sample, metric='euclidean')\n",
    "            indices = np.where(distances == distances.min())\n",
    "            labels.append(indices[0][0])\n",
    "        self.labels_ = labels\n",
    "    \n",
    "    def _updateWeights(self, sample):\n",
    "        dimentions = self.weights.shape\n",
    "        distances = cdist(self.weights.reshape(dimentions[0]*dimentions[1], dimentions[2]), sample, metric='euclidean')\n",
    "        distances = distances.reshape(dimentions[0], dimentions[1])\n",
    "        indices = np.where(distances == distances.min()) \n",
    "        \n",
    "        closestNeuron = self.weights[indices[0][0], indices[1][0]]\n",
    "     \n",
    "        distances = cdist(self.weights.reshape(dimentions[0] * dimentions[1], dimentions[2]), \n",
    "                          closestNeuron.reshape(1, dimentions[2]), metric='euclidean')\n",
    "        distances = np.argsort(np.argsort(distances.reshape(dimentions[0] * dimentions[1])))\n",
    "        distances = distances.reshape(dimentions[0], dimentions[1])\n",
    "\n",
    "        influenceVector = copy.deepcopy(distances)\n",
    "        influenceVector[distances > self.neighbourhood_radius] = -1\n",
    "        influenceVector[influenceVector >= 0] = 1\n",
    "        influenceVector[influenceVector == -1] = 0\n",
    "\n",
    "        influenceValues =  np.exp(-np.multiply(distances, distances) / (2 * self.neighbourhood_radius * self.neighbourhood_radius))\n",
    "        influenceValues = np.multiply(influenceVector, influenceValues)\n",
    "        influenceValues = influenceValues.reshape(self.weights.shape[0], self.weights.shape[1], 1)\n",
    "\n",
    "        self.weights = self.weights + np.multiply(influenceValues, (sample - self.weights))  * self.learning_rate\n",
    "\n",
    "    def _updateLearningRate(self, iteration):\n",
    "        self.learning_rate = self.initial_learning_rate * np.exp(-iteration/self.n_iter)\n",
    "\n",
    "    def _updateNeighbourhoodRadius(self, iteration):\n",
    "        self.neighbourhood_radius = self.initial_neighbourhood_radius * np.exp(-iteration/self.time_constant)\n",
    "\n",
    "    def train(self, samples):\n",
    "        \n",
    "        for i in range(1, self.n_iter+1):\n",
    "            \n",
    "            for _ in samples:\n",
    "                sample = random.choice(samples)\n",
    "                self._updateWeights(sample)\n",
    "            self._updateLearningRate(i)\n",
    "            self._updateNeighbourhoodRadius(i)\n",
    "        self._assignLabels(samples)\n",
    "    \n",
    "    def predict(self, samples):\n",
    "        result = []\n",
    "        for sample in samples:\n",
    "            distances = cdist(self.weights_, sample, metric='euclidean')\n",
    "            indices = np.where(distances == distances.min()) \n",
    "            result.append(indices[0][0])\n",
    "        return np.array(result)\n"
   ]
  },
  {
   "cell_type": "code",
   "execution_count": 84,
   "metadata": {},
   "outputs": [
    {
     "name": "stdout",
     "output_type": "stream",
     "text": [
      "Jumlah Cluster : 10\n",
      "Cluster centres: [[14.03691276  4.94632149]\n",
      " [ 9.00509793 10.97863463]\n",
      " [ 6.3365599   5.48451608]\n",
      " [14.82406947 13.0690091 ]\n",
      " [ 4.20391453  7.12474413]\n",
      " [ 9.73999791  9.6678576 ]\n",
      " [14.13294121  5.03533771]\n",
      " [ 6.61822924 14.62267912]\n",
      " [15.3895495  11.88856946]\n",
      " [ 8.66190081  3.6922967 ]]\n",
      "labels: [5, 5, 5, 5, 5, 5, 5, 5, 5, 1, 5, 5, 5, 5, 5, 5, 5, 5, 5, 5, 5, 5, 5, 5, 5, 5, 5, 5, 5, 5, 5, 5, 5, 5, 5, 5, 5, 5, 5, 5, 5, 5, 5, 5, 5, 5, 5, 5, 5, 5, 5, 5, 5, 5, 5, 5, 5, 5, 5, 5, 5, 5, 5, 5, 5, 5, 5, 5, 5, 5, 5, 5, 5, 5, 5, 5, 5, 5, 5, 5, 1, 1, 1, 1, 1, 1, 1, 5, 1, 5, 1, 1, 1, 1, 1, 5, 1, 1, 1, 1, 1, 1, 5, 1, 1, 1, 1, 5, 1, 1, 1, 3, 5, 5, 1, 1, 5, 1, 1, 1, 1, 1, 1, 1, 1, 1, 1, 1, 1, 1, 1, 1, 1, 1, 1, 1, 1, 1, 1, 1, 1, 1, 1, 1, 1, 1, 1, 1, 1, 1, 1, 1, 1, 1, 1, 1, 1, 1, 1, 1, 1, 1, 1, 1, 1, 1, 1, 1, 1, 1, 1, 1, 1, 1, 1, 1, 1, 1, 1, 1, 1, 1, 1, 1, 1, 1, 1, 1, 1, 1, 1, 1, 1, 1, 1, 1, 1, 1, 1, 1, 1, 5, 5, 5, 5, 5, 5, 1, 5, 1, 5, 5, 5, 5, 5, 5, 5, 5, 5, 5, 1, 5, 5, 5, 5, 5, 5, 5, 5, 5, 5, 5, 1, 5, 5, 5, 5, 5, 5, 5, 5, 5, 5, 5, 5, 5, 5, 5, 5, 5, 5, 5, 5, 5, 5, 5, 5, 5, 5, 5, 5, 5, 5, 5, 5, 5, 5, 5, 5, 5, 5, 5, 5, 5, 5, 5, 5, 5, 5, 5, 5, 5, 5, 5, 5, 5, 5, 5, 5, 5, 5, 5, 5, 5, 5, 5, 5, 5, 5, 5, 5, 5, 5, 5, 5, 5, 5, 5, 5, 5, 5, 5, 5, 5, 5, 5, 5, 5, 5, 5, 8, 8, 8, 8, 8, 8, 8, 8, 8, 8, 8, 8, 8, 8, 8, 8, 8, 8, 8, 8, 8, 8, 8, 8, 8, 8, 8, 8, 8, 8, 8, 8, 8, 8, 8, 8, 8, 8, 8, 8, 3, 3, 3, 3, 3, 3, 3, 3, 3, 3, 3, 3, 3, 3, 3, 3, 3, 3, 3, 3, 3, 3, 3, 3, 3, 3, 3, 3, 3, 3, 3, 3, 3, 3, 3, 3, 3, 3, 3, 3, 7, 7, 7, 7, 7, 7, 7, 7, 7, 7, 7, 7, 7, 7, 7, 7, 7, 7, 7, 7, 7, 7, 7, 7, 7, 7, 7, 7, 7, 7, 7, 7, 7, 7, 7, 7, 7, 7, 7, 7, 7, 7, 7, 7, 7, 7, 7, 7, 7, 7, 7, 7, 7, 7, 7, 7, 7, 7, 7, 7, 7, 7, 7, 7, 7, 7, 7, 7, 7, 7, 7, 7, 7, 7, 7, 7, 7, 7, 7, 7, 4, 4, 4, 4, 4, 4, 4, 4, 4, 4, 4, 4, 4, 4, 4, 4, 4, 4, 4, 4, 4, 4, 4, 4, 4, 4, 4, 4, 4, 4, 4, 4, 4, 4, 4, 4, 4, 4, 4, 4, 9, 9, 9, 9, 9, 9, 9, 9, 9, 9, 9, 9, 9, 9, 9, 9, 9, 9, 9, 9, 9, 9, 9, 9, 9, 9, 9, 9, 9, 9, 9, 9, 9, 9, 9, 9, 9, 9, 9, 9, 0, 6, 6, 0, 6, 6, 6, 6, 0, 0, 6, 6, 6, 6, 6, 6, 0, 6, 0, 0, 6, 0, 0, 0, 0, 0, 0, 6, 6, 0, 0, 6, 0, 6, 6, 0, 0, 0, 6, 6]\n"
     ]
    }
   ],
   "source": [
    "Dataset = np.genfromtxt('Tugas 2 ML Genap 2018-2019 Dataset Tanpa Label.csv', delimiter=\",\")\n",
    "Dataset = np.asarray(Dataset)\n",
    "Dataset = np.reshape(Dataset, (Dataset.shape[0],1,Dataset.shape[1]))\n",
    "\n",
    "s = SOM(neurons=(10,1), dimentions=2, n_iter=100, learning_rate=0.1)\n",
    "s.train(Dataset)\n",
    "print(\"Jumlah Cluster :\", len(s.weights_))\n",
    "print(\"Cluster centres:\", s.weights_)\n",
    "print(\"labels:\",s.labels_)\n",
    "result = s.predict(samples)"
   ]
  },
  {
   "cell_type": "code",
   "execution_count": null,
   "metadata": {},
   "outputs": [],
   "source": []
  },
  {
   "cell_type": "code",
   "execution_count": null,
   "metadata": {},
   "outputs": [],
   "source": []
  }
 ],
 "metadata": {
  "kernelspec": {
   "display_name": "Python 3",
   "language": "python",
   "name": "python3"
  },
  "language_info": {
   "codemirror_mode": {
    "name": "ipython",
    "version": 3
   },
   "file_extension": ".py",
   "mimetype": "text/x-python",
   "name": "python",
   "nbconvert_exporter": "python",
   "pygments_lexer": "ipython3",
   "version": "3.6.5"
  }
 },
 "nbformat": 4,
 "nbformat_minor": 2
}
